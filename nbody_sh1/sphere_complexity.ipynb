{
 "cells": [
  {
   "cell_type": "code",
   "execution_count": 102,
   "metadata": {},
   "outputs": [],
   "source": [
    "import numpy as np\n",
    "import matplotlib.pyplot as plt\n",
    "from IPython.display import display, Latex\n",
    "\n",
    "import scienceplots\n",
    "plt.style.use(['science', 'notebook', 'grid']) \n",
    "plt.rcParams['figure.figsize'] = [10, 10]"
   ]
  },
  {
   "cell_type": "code",
   "execution_count": 103,
   "metadata": {},
   "outputs": [
    {
     "data": {
      "text/latex": [
       "Expected T_collapse = $1.1107207345395915$ iu"
      ],
      "text/plain": [
       "<IPython.core.display.Latex object>"
      ]
     },
     "metadata": {},
     "output_type": "display_data"
    }
   ],
   "source": [
    "T_collapse = 1.1107207345395915\n",
    "display(Latex(f'Expected T_collapse = ${T_collapse}$ iu'))"
   ]
  },
  {
   "cell_type": "markdown",
   "metadata": {},
   "source": [
    "# Collecting Data"
   ]
  },
  {
   "cell_type": "markdown",
   "metadata": {},
   "source": [
    "### N = 100"
   ]
  },
  {
   "cell_type": "code",
   "execution_count": 104,
   "metadata": {},
   "outputs": [
    {
     "data": {
      "text/latex": [
       "Time = $8.75 \\pm 0.80$ s"
      ],
      "text/plain": [
       "<IPython.core.display.Latex object>"
      ]
     },
     "metadata": {},
     "output_type": "display_data"
    },
    {
     "data": {
      "text/latex": [
       "Relative std of the mean = $0.092$"
      ],
      "text/plain": [
       "<IPython.core.display.Latex object>"
      ]
     },
     "metadata": {},
     "output_type": "display_data"
    }
   ],
   "source": [
    "time_100_array = np.array([7.66, 7.69, 7.89, 6.02, 6.26, 8.30, 13.93, 11.81, 10.55, 7.42])\n",
    "time_100 = np.array([np.mean(time_100_array), np.std(time_100_array, ddof=1)/np.sqrt(len(time_100_array))])\n",
    "display(Latex(f'Time = ${time_100[0]:.2f} \\pm {time_100[1]:.2f}$ s'))\n",
    "display(Latex(f'Relative std of the mean = ${time_100[1]/time_100[0]:.3f}$'))"
   ]
  },
  {
   "cell_type": "code",
   "execution_count": 105,
   "metadata": {},
   "outputs": [
    {
     "data": {
      "text/latex": [
       "T_collapse = $1.222 \\pm 0.019$ iu"
      ],
      "text/plain": [
       "<IPython.core.display.Latex object>"
      ]
     },
     "metadata": {},
     "output_type": "display_data"
    },
    {
     "data": {
      "text/latex": [
       "Relative std of the mean = $0.015$"
      ],
      "text/plain": [
       "<IPython.core.display.Latex object>"
      ]
     },
     "metadata": {},
     "output_type": "display_data"
    }
   ],
   "source": [
    "tcoll_100_array = np.array([1.164038391972886, 1.248012765695003, 1.296018455181368, 1.173007284438172, 1.19702650832861, 1.209008823535554, 1.317038999655635, 1.200000913316228, 1.140025173153413, 1.275059339079787])\n",
    "tcoll_100 = np.array([np.mean(tcoll_100_array), np.std(tcoll_100_array, ddof=1)/np.sqrt(len(tcoll_100_array))])\n",
    "display(Latex(f'T_collapse = ${tcoll_100[0]:.3f} \\pm {tcoll_100[1]:.3f}$ iu'))\n",
    "display(Latex(f'Relative std of the mean = ${tcoll_100[1]/tcoll_100[0]:.3f}$'))"
   ]
  },
  {
   "cell_type": "markdown",
   "metadata": {},
   "source": [
    "### N = 150"
   ]
  },
  {
   "cell_type": "code",
   "execution_count": 106,
   "metadata": {},
   "outputs": [
    {
     "data": {
      "text/latex": [
       "Time = $23.5 \\pm 1.7$ s"
      ],
      "text/plain": [
       "<IPython.core.display.Latex object>"
      ]
     },
     "metadata": {},
     "output_type": "display_data"
    },
    {
     "data": {
      "text/latex": [
       "Relative std of the mean = $0.074$"
      ],
      "text/plain": [
       "<IPython.core.display.Latex object>"
      ]
     },
     "metadata": {},
     "output_type": "display_data"
    }
   ],
   "source": [
    "time_150_array = np.array([32.23, 21.50, 23.91, 22.28, 18.48, 22.14, 19.10, 34.72, 20.61, 20.29])\n",
    "time_150 = np.array([np.mean(time_150_array), np.std(time_150_array, ddof=1)/np.sqrt(len(time_150_array))])\n",
    "display(Latex(f'Time = ${time_150[0]:.1f} \\pm {time_150[1]:.1f}$ s'))\n",
    "display(Latex(f'Relative std of the mean = ${time_150[1]/time_150[0]:.3f}$'))"
   ]
  },
  {
   "cell_type": "code",
   "execution_count": 107,
   "metadata": {},
   "outputs": [
    {
     "data": {
      "text/latex": [
       "T_collapse = $1.210 \\pm 0.014$ iu"
      ],
      "text/plain": [
       "<IPython.core.display.Latex object>"
      ]
     },
     "metadata": {},
     "output_type": "display_data"
    },
    {
     "data": {
      "text/latex": [
       "Relative std of the mean = $0.012$"
      ],
      "text/plain": [
       "<IPython.core.display.Latex object>"
      ]
     },
     "metadata": {},
     "output_type": "display_data"
    }
   ],
   "source": [
    "tcoll_150_array = np.array([1.245000828156935, 1.116011929959163, 1.179007738456106, 1.233005408969266, 1.2060263161494, 1.281027022351986, 1.239023760541812, 1.209015011653224, 1.185032039468261, 1.206016697726111])\n",
    "tcoll_150 = np.array([np.mean(tcoll_150_array), np.std(tcoll_150_array, ddof=1)/np.sqrt(len(tcoll_150_array))])\n",
    "display(Latex(f'T_collapse = ${tcoll_150[0]:.3f} \\pm {tcoll_150[1]:.3f}$ iu'))\n",
    "display(Latex(f'Relative std of the mean = ${tcoll_150[1]/tcoll_150[0]:.3f}$'))"
   ]
  },
  {
   "cell_type": "markdown",
   "metadata": {},
   "source": [
    "### N = 200"
   ]
  },
  {
   "cell_type": "code",
   "execution_count": 108,
   "metadata": {},
   "outputs": [
    {
     "data": {
      "text/latex": [
       "Time = $44.8 \\pm 2.2$ s"
      ],
      "text/plain": [
       "<IPython.core.display.Latex object>"
      ]
     },
     "metadata": {},
     "output_type": "display_data"
    },
    {
     "data": {
      "text/latex": [
       "Relative std of the mean = $0.049$"
      ],
      "text/plain": [
       "<IPython.core.display.Latex object>"
      ]
     },
     "metadata": {},
     "output_type": "display_data"
    }
   ],
   "source": [
    "time_200_array = np.array([41.79, 42.79, 40.82, 42.31, 38.21, 55.61, 41.15, 58.75, 39.76, 46.42])\n",
    "time_200 = np.array([np.mean(time_200_array), np.std(time_200_array, ddof=1)/np.sqrt(len(time_200_array))])\n",
    "display(Latex(f'Time = ${time_200[0]:.1f} \\pm {time_200[1]:.1f}$ s'))\n",
    "display(Latex(f'Relative std of the mean = ${time_200[1]/time_200[0]:.3f}$'))"
   ]
  },
  {
   "cell_type": "code",
   "execution_count": 109,
   "metadata": {},
   "outputs": [
    {
     "data": {
      "text/latex": [
       "T_collapse = $1.196 \\pm 0.008$ iu"
      ],
      "text/plain": [
       "<IPython.core.display.Latex object>"
      ]
     },
     "metadata": {},
     "output_type": "display_data"
    },
    {
     "data": {
      "text/latex": [
       "Relative std of the mean = $0.007$"
      ],
      "text/plain": [
       "<IPython.core.display.Latex object>"
      ]
     },
     "metadata": {},
     "output_type": "display_data"
    }
   ],
   "source": [
    "tcoll_200_array = np.array([1.179007374814726, 1.152007862519536, 1.18501753940326, 1.203004018359262, 1.245020894363307, 1.188009548832047, 1.173018999897253, 1.206003123197469, 1.203007470469867, 1.227015657447289])\n",
    "tcoll_200 = np.array([np.mean(tcoll_200_array), np.std(tcoll_200_array, ddof=1)/np.sqrt(len(tcoll_200_array))])\n",
    "display(Latex(f'T_collapse = ${tcoll_200[0]:.3f} \\pm {tcoll_200[1]:.3f}$ iu'))\n",
    "display(Latex(f'Relative std of the mean = ${tcoll_200[1]/tcoll_200[0]:.3f}$'))"
   ]
  },
  {
   "cell_type": "markdown",
   "metadata": {},
   "source": [
    "### N = 250"
   ]
  },
  {
   "cell_type": "code",
   "execution_count": 110,
   "metadata": {},
   "outputs": [
    {
     "data": {
      "text/latex": [
       "Time = $82.7 \\pm 4.1$ s"
      ],
      "text/plain": [
       "<IPython.core.display.Latex object>"
      ]
     },
     "metadata": {},
     "output_type": "display_data"
    },
    {
     "data": {
      "text/latex": [
       "Relative std of the mean = $0.050$"
      ],
      "text/plain": [
       "<IPython.core.display.Latex object>"
      ]
     },
     "metadata": {},
     "output_type": "display_data"
    }
   ],
   "source": [
    "time_250_array = np.array([70.73, 67.69, 72.20, 84.66, 75.60, 85.18, 93.96, 100.15, 72.29, 104.08])\n",
    "time_250 = np.array([np.mean(time_250_array), np.std(time_250_array, ddof=1)/np.sqrt(len(time_250_array))])\n",
    "display(Latex(f'Time = ${time_250[0]:.1f} \\pm {time_250[1]:.1f}$ s'))\n",
    "display(Latex(f'Relative std of the mean = ${time_250[1]/time_250[0]:.3f}$'))"
   ]
  },
  {
   "cell_type": "code",
   "execution_count": 111,
   "metadata": {},
   "outputs": [
    {
     "data": {
      "text/latex": [
       "T_collapse = $1.205 \\pm 0.009$ iu"
      ],
      "text/plain": [
       "<IPython.core.display.Latex object>"
      ]
     },
     "metadata": {},
     "output_type": "display_data"
    },
    {
     "data": {
      "text/latex": [
       "Relative std of the mean = $0.007$"
      ],
      "text/plain": [
       "<IPython.core.display.Latex object>"
      ]
     },
     "metadata": {},
     "output_type": "display_data"
    }
   ],
   "source": [
    "tcoll_250_array = np.array([1.170008251633366, 1.218002819627366, 1.161042865230149, 1.242005927319641, 1.248025166843927, 1.185000642260483, 1.206004095592512, 1.215001772667581, 1.203000131326199, 1.200010357054839])\n",
    "tcoll_250 = np.array([np.mean(tcoll_250_array), np.std(tcoll_250_array, ddof=1)/np.sqrt(len(tcoll_250_array))])\n",
    "display(Latex(f'T_collapse = ${tcoll_250[0]:.3f} \\pm {tcoll_250[1]:.3f}$ iu'))\n",
    "display(Latex(f'Relative std of the mean = ${tcoll_250[1]/tcoll_250[0]:.3f}$'))"
   ]
  },
  {
   "cell_type": "markdown",
   "metadata": {},
   "source": [
    "### N = 300"
   ]
  },
  {
   "cell_type": "code",
   "execution_count": 112,
   "metadata": {},
   "outputs": [
    {
     "data": {
      "text/latex": [
       "Time = $158.8 \\pm 10.8$ s"
      ],
      "text/plain": [
       "<IPython.core.display.Latex object>"
      ]
     },
     "metadata": {},
     "output_type": "display_data"
    },
    {
     "data": {
      "text/latex": [
       "Relative std of the mean = $0.068$"
      ],
      "text/plain": [
       "<IPython.core.display.Latex object>"
      ]
     },
     "metadata": {},
     "output_type": "display_data"
    }
   ],
   "source": [
    "time_300_array = np.array([130.09, 140.93, 112.08, 195.89, 143.11, 203.95, 131.66, 160.00, 159.40, 210.76])\n",
    "time_300 = np.array([np.mean(time_300_array), np.std(time_300_array, ddof=1)/np.sqrt(len(time_300_array))])\n",
    "display(Latex(f'Time = ${time_300[0]:.1f} \\pm {time_300[1]:.1f}$ s'))\n",
    "display(Latex(f'Relative std of the mean = ${time_300[1]/time_300[0]:.3f}$'))"
   ]
  },
  {
   "cell_type": "code",
   "execution_count": 113,
   "metadata": {},
   "outputs": [
    {
     "data": {
      "text/latex": [
       "T_collapse = $1.181 \\pm 0.006$ iu"
      ],
      "text/plain": [
       "<IPython.core.display.Latex object>"
      ]
     },
     "metadata": {},
     "output_type": "display_data"
    },
    {
     "data": {
      "text/latex": [
       "Relative std of the mean = $0.005$"
      ],
      "text/plain": [
       "<IPython.core.display.Latex object>"
      ]
     },
     "metadata": {},
     "output_type": "display_data"
    }
   ],
   "source": [
    "tcoll_300_array = np.array([1.18800245185184, 1.185006719363246, 1.164000594676489, 1.194008884247658, 1.179006108261933, 1.161010890180009, 1.203010225491176, 1.158008640991329, 1.209019357721327, 1.164003906626008])\n",
    "tcoll_300 = np.array([np.mean(tcoll_300_array), np.std(tcoll_300_array, ddof=1)/np.sqrt(len(tcoll_300_array))])\n",
    "display(Latex(f'T_collapse = ${tcoll_300[0]:.3f} \\pm {tcoll_300[1]:.3f}$ iu'))\n",
    "display(Latex(f'Relative std of the mean = ${tcoll_300[1]/tcoll_300[0]:.3f}$'))"
   ]
  },
  {
   "cell_type": "markdown",
   "metadata": {},
   "source": [
    "# 1) Computational Time VS Number of Particles"
   ]
  },
  {
   "cell_type": "code",
   "execution_count": 118,
   "metadata": {},
   "outputs": [],
   "source": [
    "time_array = np.array([time_100, time_150, time_200, time_250, time_300]).T"
   ]
  },
  {
   "cell_type": "code",
   "execution_count": null,
   "metadata": {},
   "outputs": [],
   "source": [
    "def Powerlaw(x, alpha, C):\n",
    "    return x**alpha + C"
   ]
  },
  {
   "cell_type": "code",
   "execution_count": null,
   "metadata": {},
   "outputs": [],
   "source": []
  },
  {
   "cell_type": "markdown",
   "metadata": {},
   "source": [
    "# 2) Collapse Time VS Number of Particles"
   ]
  }
 ],
 "metadata": {
  "kernelspec": {
   "display_name": "Astrostatistics",
   "language": "python",
   "name": "python3"
  },
  "language_info": {
   "codemirror_mode": {
    "name": "ipython",
    "version": 3
   },
   "file_extension": ".py",
   "mimetype": "text/x-python",
   "name": "python",
   "nbconvert_exporter": "python",
   "pygments_lexer": "ipython3",
   "version": "3.8.18"
  }
 },
 "nbformat": 4,
 "nbformat_minor": 2
}
